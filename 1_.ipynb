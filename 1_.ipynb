{
 "cells": [
  {
   "cell_type": "markdown",
   "metadata": {},
   "source": [
    "- power query (ETL)\n",
    "- power pivot(DATA MODELING)\n",
    "- power view(VISUALIZATION)\n",
    "- power bi service(SHARE)\n",
    "___"
   ]
  },
  {
   "cell_type": "markdown",
   "metadata": {},
   "source": [
    "- UPGRADE\n",
    "   - file -> options and settings -> options \n",
    "   - preview feature -> select features -> ok "
   ]
  },
  {
   "cell_type": "markdown",
   "metadata": {},
   "source": [
    "- similary in power query editor \n",
    " - transform data -> will open power query editor\n",
    " - file -> options and settings ->options -> preview features -> choose features->ok -> close and apply\n",
    " ___"
   ]
  },
  {
   "cell_type": "markdown",
   "metadata": {},
   "source": [
    "- column chart\n",
    "   - Axis (Sub Category)\n",
    "   - Values (Sales) \n",
    "   ___"
   ]
  },
  {
   "cell_type": "markdown",
   "metadata": {},
   "source": [
    "- stacked column chart\n",
    "   - Axis (sub category)\n",
    "   - Values(sales)\n",
    "   - Legend(region)\n",
    "   ___"
   ]
  },
  {
   "cell_type": "markdown",
   "metadata": {},
   "source": [
    "- pie chart\n",
    "   - Legend (Region)\n",
    "   - Values (sales)\n",
    "   ___ "
   ]
  },
  {
   "cell_type": "markdown",
   "metadata": {},
   "source": [
    "- funnel chart\n",
    "   -  Group (subcategory)\n",
    "   -  Values (Sales)\n",
    "   ___"
   ]
  },
  {
   "cell_type": "markdown",
   "metadata": {},
   "source": [
    "- Ribbon chart\n",
    "   - Axis (order date)\n",
    "   - Values (sales)   -> this 2 will create column chart\n",
    "   - Legend (region)\n",
    "___\n",
    "___"
   ]
  },
  {
   "cell_type": "markdown",
   "metadata": {},
   "source": [
    "### Include and Exclude"
   ]
  },
  {
   "cell_type": "markdown",
   "metadata": {},
   "source": [
    "- create a stacked column chart\n",
    "- select any two pirticular regions (ctrl+click) -> right click ->include\n",
    "![include](images/stack_include.png)"
   ]
  },
  {
   "cell_type": "markdown",
   "metadata": {},
   "source": [
    "- similarly exclude\n",
    "___\n",
    "___"
   ]
  },
  {
   "cell_type": "markdown",
   "metadata": {},
   "source": [
    "### View data and export\n",
    "- create stacked column chart\n",
    "- just like above there will a region and we have to show how the label of that region got that value\n",
    "- select a region and right click -> show data point as table -> will create table for that region\n",
    "- on top right corner there will be three dots(...) -> click and ->  Export data (csv format)\n",
    "\n",
    " "
   ]
  },
  {
   "cell_type": "markdown",
   "metadata": {},
   "source": [
    "- will the end user able to view the data? can change by settings\n",
    "- file -> options and settings -> options -> current file ->report settings -> export data -> allow/disallow end user (choose) -> ok \n"
   ]
  },
  {
   "cell_type": "markdown",
   "metadata": {},
   "source": [
    "___\n",
    "___"
   ]
  },
  {
   "cell_type": "markdown",
   "metadata": {},
   "source": [
    "- create map\n",
    "   - need geographical data\n",
    "     - location (state)\n",
    "     - size(sales)\n",
    "- to solve issues in map display\n",
    "   - Column tools -> Data Category ->choose\n",
    "       "
   ]
  },
  {
   "cell_type": "markdown",
   "metadata": {},
   "source": [
    "___\n",
    "___"
   ]
  },
  {
   "cell_type": "markdown",
   "metadata": {},
   "source": [
    "#### filled map\n",
    "- location(state)\n",
    "- legend(profit)  | legend(region) |legend(state)\n",
    "- tooltip(profit)\n",
    " "
   ]
  },
  {
   "cell_type": "markdown",
   "metadata": {},
   "source": [
    "#### map with pie chart"
   ]
  },
  {
   "cell_type": "markdown",
   "metadata": {},
   "source": [
    "- create map\n",
    "  - location(state)\n",
    "  - legend(category)\n",
    "  - increase size\n",
    "  -  size(sales)\n",
    "\n",
    "___\n",
    "#### formatting in map\n",
    "-\n",
    "-\n",
    "___\n",
    "___\n"
   ]
  },
  {
   "cell_type": "markdown",
   "metadata": {},
   "source": [
    "### table and matrix in power bi"
   ]
  },
  {
   "cell_type": "markdown",
   "metadata": {},
   "source": [
    "- create simple table \n",
    "    - values (subcategory,sales,profit,quantity)\n",
    "- format a table\n",
    "   - style used to change quickly(ready made template)\n",
    "- conditional formatting in table\n",
    "   - in formatting section -> conditional formatting\n",
    "     - conditional formatting can be applied to numerical columns\n",
    "     - choose a column(sales) \n",
    "     - change background color (color changes by sales) -> sort to understand\n",
    "     - <br>\n",
    "     - choose anther column\n",
    "     - use font color \n",
    "     - <br>\n",
    "     - choose quantity\n",
    "     - use Data bars\n",
    "     - <br>\n",
    "     - apply icons\n",
    "     - advance control options \n",
    "     - add rules \n",
    "     - <br>\n",
    "     \n",
    "\n",
    "\n",
    "\n",
    "\n",
    "        \n",
    "        \n"
   ]
  },
  {
   "cell_type": "markdown",
   "metadata": {},
   "source": [
    "___\n",
    "___\n",
    "### Change aggregation in table\n",
    "- create table\n",
    "  - drag fields into Values\n",
    "  -  there will be option in the fields present in values to change aggregations(sum,mean..)\n",
    "  - let profit is a field in values\n",
    "    - to show average of profit -> on dropdown -> show value as -> Percent of grand total\n"
   ]
  },
  {
   "cell_type": "markdown",
   "metadata": {},
   "source": [
    "___\n",
    "### creating custom themes\n",
    "- create a table\n",
    " - View  \n",
    " - dropdown near present themes -> customize current themes ->"
   ]
  },
  {
   "cell_type": "markdown",
   "metadata": {},
   "source": [
    "___\n",
    "___\n",
    "### creating simple matrix\n",
    "- create a table \n",
    "- select matrix button\n",
    "___"
   ]
  },
  {
   "cell_type": "markdown",
   "metadata": {},
   "source": [
    "- create matrix\n",
    "   - Rows (Subcategory)\n",
    "   - Columns(Regions)\n",
    "   - Values(sales)\n",
    "___"
   ]
  },
  {
   "cell_type": "markdown",
   "metadata": {},
   "source": [
    "#### conditional formatting in matrix\n",
    "- can select -> right click and -> copy visual  \n",
    "- format -> conditional formatting -> data bars| font colors | background color | advance control\n"
   ]
  },
  {
   "cell_type": "markdown",
   "metadata": {},
   "source": [
    "___\n",
    "### Hierarchies in matrix\n",
    "- Rows(category)\n",
    "- Values(sales)\n",
    "- then place one more field (subcategory) into rows\n",
    "___\n",
    "- there will be a plus sign to expand categories -> hierarchy\n",
    "- as many fields can be added below it to create a hierarchy structure -> as there is a structural validity it can be established\n",
    "- there will be Expand all down one level in the hierarchy,Drill up ,Drill down,Go to next level in hierarchy\n",
    "- these options will only work for either rows or columns at a time\n",
    "___"
   ]
  },
  {
   "cell_type": "markdown",
   "metadata": {},
   "source": [
    "#### subtotal and total in matrix\n",
    "- Format -> subtotals -> Row subtotals\n",
    "- there is grand total and subtotal\n"
   ]
  },
  {
   "cell_type": "markdown",
   "metadata": {},
   "source": [
    "___\n",
    "### Number formatting in table and matrix\n",
    "- draw table with multiple fields in Values\n",
    "- Column tools -> Structure -> Data type (change)\n",
    "- format -> field formating -> choose a field (sales) ->display units ->select\n",
    "\n",
    "___\n"
   ]
  },
  {
   "cell_type": "markdown",
   "metadata": {},
   "source": [
    "### other charts\n",
    "- line chart\n",
    "   - Axis(Order date)\n",
    "   - Values(sales) \n",
    "- drill down on a line chart\n",
    "  - Axis contains date \n",
    "  - use Expand all down one level in the hierarchy\n",
    "___\n",
    "\n",
    "- text data -> word cloud ,column chart ,pie chart,donut chart\n",
    "___\n"
   ]
  },
  {
   "cell_type": "markdown",
   "metadata": {},
   "source": [
    "- area chart\n",
    "   - filled line chart\n",
    "   - format -> Data labels ->on\n",
    "___"
   ]
  },
  {
   "cell_type": "code",
   "execution_count": null,
   "metadata": {},
   "outputs": [],
   "source": []
  },
  {
   "cell_type": "markdown",
   "metadata": {},
   "source": [
    "- line and clustered columns\n",
    "   - shared axis (order date)\n",
    "   -  column values (sales)\n",
    "   - line values(profit)"
   ]
  },
  {
   "cell_type": "markdown",
   "metadata": {},
   "source": [
    "___\n",
    "___"
   ]
  },
  {
   "cell_type": "markdown",
   "metadata": {},
   "source": [
    "- scattered plot is only plot where animation is present by default in power bi\n",
    "   -  x axis (sales)\n",
    "   -  y axis(profit)\n",
    "   -  details (sub category)\n",
    "   - format -> category label (turn on)\n",
    "   -  size (quantity)\n",
    "   -  legend(category)\n",
    "- order data -> into <b> Play  Axis</b>\n",
    "    - drop down in Play Axis->Date Hierarchy ->change to see effect\n",
    "    - select a point in plot ,line of trend will appear,ctrl+ select 2 and play\n",
    "    \n"
   ]
  },
  {
   "cell_type": "markdown",
   "metadata": {},
   "source": [
    "___\n",
    "___"
   ]
  },
  {
   "cell_type": "markdown",
   "metadata": {},
   "source": [
    "- waterfall chart\n",
    "  - category (order date)\n",
    "  - values(sales)\n",
    "  -\n",
    "  - Breakdown ( region)\n",
    "___\n",
    "___\n"
   ]
  },
  {
   "cell_type": "markdown",
   "metadata": {},
   "source": [
    "- tree map in power bi\n",
    "    - Group (subcategory )\n",
    "    - Values(sales)\n",
    "    - Region (Details) "
   ]
  },
  {
   "cell_type": "markdown",
   "metadata": {},
   "source": []
  }
 ],
 "metadata": {
  "kernelspec": {
   "display_name": "base",
   "language": "python",
   "name": "python3"
  },
  "language_info": {
   "name": "python",
   "version": "3.12.7"
  }
 },
 "nbformat": 4,
 "nbformat_minor": 2
}
