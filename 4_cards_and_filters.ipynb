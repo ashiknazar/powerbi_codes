{
 "cells": [
  {
   "cell_type": "markdown",
   "metadata": {},
   "source": [
    "- cards are just indicators ,giving just value"
   ]
  },
  {
   "cell_type": "markdown",
   "metadata": {},
   "source": [
    "- number card\n",
    "- text card\n",
    "- date card\n",
    "- multi row card"
   ]
  },
  {
   "cell_type": "markdown",
   "metadata": {},
   "source": [
    "### number card\n",
    "- drag sum of sales into a card and curresponding card will be created"
   ]
  },
  {
   "cell_type": "markdown",
   "metadata": {},
   "source": [
    "![](images/num_card.png)"
   ]
  },
  {
   "cell_type": "markdown",
   "metadata": {},
   "source": [
    "### text card"
   ]
  },
  {
   "cell_type": "markdown",
   "metadata": {},
   "source": [
    "![](images/text_card.png)"
   ]
  },
  {
   "cell_type": "markdown",
   "metadata": {},
   "source": [
    "### text card with other filter conditions"
   ]
  },
  {
   "cell_type": "markdown",
   "metadata": {},
   "source": [
    "- create a table\n",
    "- create a text card\n",
    "- in filter section \n",
    "   - add datafields here\n",
    "   - drag <b>subcategory</b>\n",
    "   - basic filter -> change to top N -> give N as 1 -> in add datafield here (drag <b>sum of sales</b>)  "
   ]
  },
  {
   "cell_type": "markdown",
   "metadata": {},
   "source": [
    "![](images/card2.png)"
   ]
  },
  {
   "cell_type": "markdown",
   "metadata": {},
   "source": []
  },
  {
   "cell_type": "markdown",
   "metadata": {},
   "source": [
    "### date card"
   ]
  },
  {
   "cell_type": "markdown",
   "metadata": {},
   "source": [
    "- create a card -> drag order date\n",
    "- add data fields here -> drag order date -> choose top N option\n",
    "    - add data fields here -> drag sales there"
   ]
  },
  {
   "cell_type": "markdown",
   "metadata": {},
   "source": [
    "![](images/date.png)"
   ]
  },
  {
   "cell_type": "markdown",
   "metadata": {},
   "source": [
    "### relative date filtering \n",
    "- create date card\n",
    "  - add data fields here -> drag order date\n",
    "  - filter type (Relative date)\n",
    "  - in the last -> 12 ->  years\n",
    "  ![](images/rel_date.png)"
   ]
  },
  {
   "cell_type": "markdown",
   "metadata": {},
   "source": [
    "### multi row card"
   ]
  },
  {
   "cell_type": "markdown",
   "metadata": {},
   "source": [
    "- create a multi row card\n",
    "   - fields ( subcategory,sum of sales,sum of profit,sum of quantity)\n",
    "   - add data fields here \n",
    "      - drag subcategory\n",
    "      - choose top N\n",
    "      - by value -> sum of sales"
   ]
  },
  {
   "cell_type": "markdown",
   "metadata": {},
   "source": [
    "![](images/multi_row.png)"
   ]
  },
  {
   "cell_type": "markdown",
   "metadata": {},
   "source": [
    "### filters"
   ]
  },
  {
   "cell_type": "markdown",
   "metadata": {},
   "source": [
    "- filters are mainly applied \n",
    "   - on visual\n",
    "   - on page\n",
    "   - on all pages "
   ]
  },
  {
   "cell_type": "markdown",
   "metadata": {},
   "source": [
    "### Drillthrough "
   ]
  },
  {
   "cell_type": "markdown",
   "metadata": {},
   "source": [
    "- go to target page\n",
    "   - draw a table\n",
    "   - format -> page information -> page type -> drill through\n",
    "- on source page hovering over visualization will show click to  drill through suggestion"
   ]
  },
  {
   "cell_type": "markdown",
   "metadata": {},
   "source": [
    "![](images/drill_through.png)"
   ]
  },
  {
   "cell_type": "markdown",
   "metadata": {},
   "source": []
  }
 ],
 "metadata": {
  "kernelspec": {
   "display_name": "base",
   "language": "python",
   "name": "python3"
  },
  "language_info": {
   "name": "python",
   "version": "3.12.7"
  }
 },
 "nbformat": 4,
 "nbformat_minor": 2
}
