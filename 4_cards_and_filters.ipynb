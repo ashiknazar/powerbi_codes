{
 "cells": [
  {
   "cell_type": "markdown",
   "metadata": {},
   "source": [
    "- cards are just indicators ,giving just value"
   ]
  },
  {
   "cell_type": "markdown",
   "metadata": {},
   "source": [
    "- number card\n",
    "- text card\n",
    "- date card\n",
    "- multi row card"
   ]
  },
  {
   "cell_type": "markdown",
   "metadata": {},
   "source": [
    "### number card\n",
    "- drag sum of sales into a card and curresponding card will be created"
   ]
  },
  {
   "cell_type": "markdown",
   "metadata": {},
   "source": [
    "![](images/num_card.png)"
   ]
  },
  {
   "cell_type": "markdown",
   "metadata": {},
   "source": [
    "### text card"
   ]
  },
  {
   "cell_type": "markdown",
   "metadata": {},
   "source": [
    "![](images/text_card.png)"
   ]
  },
  {
   "cell_type": "markdown",
   "metadata": {},
   "source": [
    "### text card with other filter conditions"
   ]
  },
  {
   "cell_type": "markdown",
   "metadata": {},
   "source": [
    "- create a table\n",
    "- create a text card\n",
    "- in filter section \n",
    "   - add datafields here\n",
    "   - drag <b>subcategory</b>\n",
    "   - basic filter -> change to top N -> give N as 1 -> in add datafield here (drag <b>sum of sales</b>)  "
   ]
  },
  {
   "cell_type": "markdown",
   "metadata": {},
   "source": [
    "![](images/card2.png)"
   ]
  },
  {
   "cell_type": "markdown",
   "metadata": {},
   "source": []
  }
 ],
 "metadata": {
  "language_info": {
   "name": "python"
  }
 },
 "nbformat": 4,
 "nbformat_minor": 2
}
