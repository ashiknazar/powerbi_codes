{
 "cells": [
  {
   "cell_type": "markdown",
   "metadata": {},
   "source": [
    "5:05:02 ->power query"
   ]
  },
  {
   "cell_type": "markdown",
   "metadata": {},
   "source": [
    "6:06:47 -> appending tables"
   ]
  },
  {
   "cell_type": "markdown",
   "metadata": {},
   "source": []
  }
 ],
 "metadata": {
  "language_info": {
   "name": "python"
  }
 },
 "nbformat": 4,
 "nbformat_minor": 2
}
