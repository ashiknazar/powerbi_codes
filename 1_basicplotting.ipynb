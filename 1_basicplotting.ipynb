{
 "cells": [
  {
   "cell_type": "markdown",
   "metadata": {},
   "source": [
    "### column chart "
   ]
  },
  {
   "cell_type": "markdown",
   "metadata": {},
   "source": [
    "- superstore data set contains orders table (drag fields to build proper plot)\n",
    "   - X-axis (subcategory)\n",
    "   - Y-axis(sum of sales) \n",
    "   - Legend(Region)"
   ]
  },
  {
   "cell_type": "markdown",
   "metadata": {},
   "source": [
    "![](images/stacked_column_chart.png)"
   ]
  },
  {
   "cell_type": "markdown",
   "metadata": {},
   "source": [
    "### pie chart\n",
    "- Legend (region)\n",
    "- Values(sum of sales) "
   ]
  },
  {
   "cell_type": "markdown",
   "metadata": {},
   "source": [
    "![](images/pie.png)"
   ]
  },
  {
   "cell_type": "markdown",
   "metadata": {},
   "source": [
    "### funnel chart\n",
    "- Category (sub category)\n",
    "- Values (sum of sales)"
   ]
  },
  {
   "cell_type": "markdown",
   "metadata": {},
   "source": [
    "![](images/funnel.png)"
   ]
  },
  {
   "cell_type": "markdown",
   "metadata": {},
   "source": [
    "### Ribbon chart\n",
    "- X-axis (Order date)\n",
    "- Y-axis(sum of sales)\n",
    "- Legend (Region)"
   ]
  },
  {
   "cell_type": "markdown",
   "metadata": {},
   "source": [
    "![](images/ribbon.png)"
   ]
  },
  {
   "cell_type": "markdown",
   "metadata": {},
   "source": [
    "### include and exclude "
   ]
  },
  {
   "cell_type": "markdown",
   "metadata": {},
   "source": [
    "- draw a stacked column chart\n",
    "- select any two regions (ctrl+select)\n",
    "- right click on top of any -> include"
   ]
  },
  {
   "cell_type": "markdown",
   "metadata": {},
   "source": [
    "![](images/stack_include.png)"
   ]
  },
  {
   "cell_type": "markdown",
   "metadata": {},
   "source": [
    "### map\n",
    "\n",
    "- Location (state)\n",
    "- Bubble size(sum of sales)\n",
    "- Legend(Category)"
   ]
  },
  {
   "cell_type": "markdown",
   "metadata": {},
   "source": [
    "![](images/map.png)"
   ]
  },
  {
   "cell_type": "markdown",
   "metadata": {},
   "source": [
    "- if 'state' column is named as 'state_23' ,map may not recognize .in such case you have to  \n",
    "     - select field name -> column tools -> Data Category -> choose state"
   ]
  },
  {
   "cell_type": "markdown",
   "metadata": {},
   "source": []
  }
 ],
 "metadata": {
  "language_info": {
   "name": "python"
  }
 },
 "nbformat": 4,
 "nbformat_minor": 2
}
